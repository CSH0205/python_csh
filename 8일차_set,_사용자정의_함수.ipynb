{
  "nbformat": 4,
  "nbformat_minor": 0,
  "metadata": {
    "colab": {
      "provenance": [],
      "authorship_tag": "ABX9TyNe+JbkpU6xNOhaV1EXtpoO",
      "include_colab_link": true
    },
    "kernelspec": {
      "name": "python3",
      "display_name": "Python 3"
    },
    "language_info": {
      "name": "python"
    }
  },
  "cells": [
    {
      "cell_type": "markdown",
      "metadata": {
        "id": "view-in-github",
        "colab_type": "text"
      },
      "source": [
        "<a href=\"https://colab.research.google.com/github/CSH0205/python_csh/blob/main/8%EC%9D%BC%EC%B0%A8_set%2C_%EC%82%AC%EC%9A%A9%EC%9E%90%EC%A0%95%EC%9D%98_%ED%95%A8%EC%88%98.ipynb\" target=\"_parent\"><img src=\"https://colab.research.google.com/assets/colab-badge.svg\" alt=\"Open In Colab\"/></a>"
      ]
    },
    {
      "cell_type": "markdown",
      "source": [
        "## 컬렉션 데이터 - set\n",
        "* 세트명 = {값1, 값2, 값3, ...}\n",
        "  "
      ],
      "metadata": {
        "id": "YRqXU7J7GYWo"
      }
    },
    {
      "cell_type": "code",
      "execution_count": null,
      "metadata": {
        "colab": {
          "base_uri": "https://localhost:8080/"
        },
        "id": "I2ruSZdHDOy3",
        "outputId": "b85cb4c1-da92-494c-c324-ae7404fc5343"
      },
      "outputs": [
        {
          "output_type": "stream",
          "name": "stdout",
          "text": [
            "{20}\n",
            "{20, 40, 10, 30}\n",
            "{10, 30}\n"
          ]
        }
      ],
      "source": [
        "a = {10, 20, 30}\n",
        "b = {20, 40}\n",
        "\n",
        "print(a & b)  #교집합\n",
        "print(a|b)    #합집합\n",
        "print(a-b)    #차집합"
      ]
    },
    {
      "cell_type": "markdown",
      "source": [
        "## (사용자 정의) 함수\n",
        "\n",
        "\n",
        "\n",
        "```\n",
        "def 함수명():\n",
        "  명령문1\n",
        "  명령문2\n",
        "  ...\n",
        "\n",
        "함수명() #→ 함수 호출됨\n",
        "```\n",
        "\n"
      ],
      "metadata": {
        "id": "noT-gAgtIV_Y"
      }
    },
    {
      "cell_type": "code",
      "source": [
        "#함수 정의\n",
        "def infoper():\n",
        "  print('경기도 수원시')\n",
        "  print('최성헌')\n",
        "\n",
        "#함수 호출\n",
        "for i in range(5):\n",
        "  infoper()"
      ],
      "metadata": {
        "colab": {
          "base_uri": "https://localhost:8080/"
        },
        "id": "qdrxNPdGG3vU",
        "outputId": "79b43faa-e7c5-4206-c851-f8e121af8f3b"
      },
      "execution_count": null,
      "outputs": [
        {
          "output_type": "stream",
          "name": "stdout",
          "text": [
            "경기도 수원시\n",
            "최성헌\n",
            "경기도 수원시\n",
            "최성헌\n",
            "경기도 수원시\n",
            "최성헌\n",
            "경기도 수원시\n",
            "최성헌\n",
            "경기도 수원시\n",
            "최성헌\n"
          ]
        }
      ]
    },
    {
      "cell_type": "code",
      "source": [
        "# 함수 인수 이용\n",
        "# 함수 정의\n",
        "\n",
        "def infoper(addr, name):\n",
        "  print(addr)\n",
        "  print(name)\n",
        "\n",
        "# 함수 호출\n",
        "addr = input('주소 입력 >> ')\n",
        "name = input('이름 >> ')\n",
        "infoper(addr,name)"
      ],
      "metadata": {
        "colab": {
          "base_uri": "https://localhost:8080/"
        },
        "id": "oWaFoxFkLK-Z",
        "outputId": "0e08ad0c-0a91-43a7-a57c-afd69c5a75d4"
      },
      "execution_count": null,
      "outputs": [
        {
          "output_type": "stream",
          "name": "stdout",
          "text": [
            "주소 입력 >> 미합중국 캘리포니아주 샌프란시스코\n",
            "이름 >> 최성헌\n",
            "미합중국 캘리포니아주 샌프란시스코\n",
            "최성헌\n"
          ]
        }
      ]
    },
    {
      "cell_type": "code",
      "source": [
        "# 더하기 빼기 함수 작성\n",
        "def calc_math(a,b):\n",
        "  hap = a+b\n",
        "  subtract = a-b\n",
        "  print(f'더하기: {hap}, 빼기: {subtract}')\n",
        "\n",
        "x = int(input(\"첫 번째 정수 입력: \"))\n",
        "y = int(input(\"두 번째 정수 입력: \"))\n",
        "\n",
        "calc_math(x,y)"
      ],
      "metadata": {
        "colab": {
          "base_uri": "https://localhost:8080/"
        },
        "id": "jt75_FDIMhFr",
        "outputId": "9854e992-487e-4b69-9ff4-ab24b9435d0d"
      },
      "execution_count": null,
      "outputs": [
        {
          "output_type": "stream",
          "name": "stdout",
          "text": [
            "첫 번째 정수 입력: 1972\n",
            "두 번째 정수 입력: 1121\n",
            "더하기: 3093, 빼기: 851\n"
          ]
        }
      ]
    },
    {
      "cell_type": "code",
      "source": [
        "# 더하기 빼기 함수 작성 2\n",
        "def calc_math(a, b, c):\n",
        "  r1 = a+b+c\n",
        "  r2 = r1/3\n",
        "  # print(f'더하기: {r1}, 빼기: {r2}')\n",
        "  return r1, r2\n",
        "\n",
        "x,y = calc_math(100, 200, 300)\n",
        "print(x,y)"
      ],
      "metadata": {
        "colab": {
          "base_uri": "https://localhost:8080/"
        },
        "id": "24rV528DN4ee",
        "outputId": "01e1f209-c593-4610-f5a1-71a54ac9690b"
      },
      "execution_count": null,
      "outputs": [
        {
          "output_type": "stream",
          "name": "stdout",
          "text": [
            "600 200.0\n"
          ]
        }
      ]
    },
    {
      "cell_type": "code",
      "source": [
        "# 2~9까지 구구단 출력\n",
        "\n",
        "def times(x):\n",
        "  for i in range(9):\n",
        "    r = x * (i+1)\n",
        "    print(f'{x} * {i+1} = {r}')\n",
        "\n",
        "x = int(input('정수 값 입력: '))\n",
        "times(x)"
      ],
      "metadata": {
        "colab": {
          "base_uri": "https://localhost:8080/"
        },
        "id": "F-9yUmjLOnT8",
        "outputId": "c27a58b9-64aa-4766-c844-3974d71b073e"
      },
      "execution_count": null,
      "outputs": [
        {
          "output_type": "stream",
          "name": "stdout",
          "text": [
            "정수 값 입력: 3\n",
            "3 * 1 = 3\n",
            "3 * 2 = 6\n",
            "3 * 3 = 9\n",
            "3 * 4 = 12\n",
            "3 * 5 = 15\n",
            "3 * 6 = 18\n",
            "3 * 7 = 21\n",
            "3 * 8 = 24\n",
            "3 * 9 = 27\n"
          ]
        }
      ]
    },
    {
      "cell_type": "code",
      "source": [
        "# 2~9까지 구구단 출력(최종본)\n",
        "\n",
        "# 함수 정의\n",
        "def times(x):\n",
        "  if x >= 2 and x <= 9:\n",
        "    for i in range(1,10):\n",
        "      r = x * i\n",
        "      print(f'{x} * {i} = {r}')\n",
        "  else:\n",
        "    print('입력 오류!!!')\n",
        "\n",
        "# 함수 호출\n",
        "x = int(input('정수 값 입력: '))\n",
        "times(x)"
      ],
      "metadata": {
        "colab": {
          "base_uri": "https://localhost:8080/"
        },
        "id": "8b9HC-z_QxXm",
        "outputId": "f52ebfc8-c2df-4e27-8af7-b66c4c29523c"
      },
      "execution_count": null,
      "outputs": [
        {
          "output_type": "stream",
          "name": "stdout",
          "text": [
            "정수 값 입력: 7\n",
            "7 * 1 = 7\n",
            "7 * 2 = 14\n",
            "7 * 3 = 21\n",
            "7 * 4 = 28\n",
            "7 * 5 = 35\n",
            "7 * 6 = 42\n",
            "7 * 7 = 49\n",
            "7 * 8 = 56\n",
            "7 * 9 = 63\n"
          ]
        }
      ]
    },
    {
      "cell_type": "code",
      "source": [
        "# 실습2 - 숫자 3개 입ㄹ력 -> 가장 큰 수 구하는 코드(함수 미사용)\n",
        "\n",
        "a = int(input('첫 번째 숫자 입력: '))\n",
        "b = int(input('두 번째 숫자 입력: '))\n",
        "c = int(input('세 번째 숫자 입력: '))\n",
        "\n",
        "if a > b:\n",
        "  big = a\n",
        "\n",
        "else:\n",
        "  big = b\n",
        "\n",
        "if big < c:\n",
        "  big = c\n",
        "\n",
        "print('가장 큰 수는 ', big)"
      ],
      "metadata": {
        "colab": {
          "base_uri": "https://localhost:8080/"
        },
        "id": "AYa5jMwKScMk",
        "outputId": "bfbb1654-361c-4a5e-865d-625b0a2997f3"
      },
      "execution_count": null,
      "outputs": [
        {
          "output_type": "stream",
          "name": "stdout",
          "text": [
            "첫 번째 숫자 입력: 10\n",
            "두 번째 숫자 입력: 20\n",
            "세 번째 숫자 입력: 30\n",
            "가장 큰 수는  30\n"
          ]
        }
      ]
    },
    {
      "cell_type": "code",
      "source": [
        "# 실습2 - 숫자 3개 입ㄹ력 -> 가장 큰 수 구하는 코드(함수 미사용)\n",
        "\n",
        "def findMax(a,b,c):\n",
        "  if a > b:\n",
        "    big = a\n",
        "  else:\n",
        "    big = b\n",
        "\n",
        "  if big < c:\n",
        "    big = c\n",
        "\n",
        "  return big\n",
        "\n",
        "# 함수 호출\n",
        "in_a = int(input('첫 번째 숫자 입력: '))\n",
        "in_b = int(input('두 번째 숫자 입력: '))\n",
        "in_c = int(input('세 번째 숫자 입력: '))\n",
        "\n",
        "rbig = findMax(in_a,in_b,in_c)\n",
        "print('가장 큰 수는 ', rbig)"
      ],
      "metadata": {
        "colab": {
          "base_uri": "https://localhost:8080/"
        },
        "id": "7RETLIxVTrZW",
        "outputId": "b74a3bef-2f6a-4d31-b7f3-d4c5a90598e4"
      },
      "execution_count": null,
      "outputs": [
        {
          "output_type": "stream",
          "name": "stdout",
          "text": [
            "첫 번째 숫자 입력: 12\n",
            "두 번째 숫자 입력: 13\n",
            "세 번째 숫자 입력: 14\n",
            "가장 큰 수는  14\n"
          ]
        }
      ]
    },
    {
      "cell_type": "code",
      "source": [
        "# 문1 - 사용자 -> 반지름 입력 -> 원의 둘레 & 원의 넓이 출력\n",
        "\n",
        "def cir1(r):\n",
        "  circ = 2 * r * 3.14\n",
        "  return circ\n",
        "\n",
        "def cir2(r):\n",
        "  area = r ** 2 * 3.14\n",
        "  return area\n",
        "\n",
        "\n",
        "# 함수 호출\n",
        "in_r = int(input('원의 반지름 입력: '))\n",
        "\n",
        "in_circ = cir1(in_r)\n",
        "in_area = cir2(in_r)\n",
        "print(f'원의 둘레: {in_circ:.2f} \\n원의 넓이: {in_area:.2f}')\n"
      ],
      "metadata": {
        "colab": {
          "base_uri": "https://localhost:8080/"
        },
        "id": "i6_ypvXJVKWb",
        "outputId": "7cf127df-d4ff-46da-eecf-cc55d9649701"
      },
      "execution_count": null,
      "outputs": [
        {
          "output_type": "stream",
          "name": "stdout",
          "text": [
            "원의 반지름 입력: 12\n",
            "원의 둘레: 75.36 \n",
            "원의 넓이: 452.16\n"
          ]
        }
      ]
    },
    {
      "cell_type": "code",
      "source": [
        "# 문2 - '친구 연락처 검색 프로그램' 만들기\n",
        "\n",
        "\n",
        "\n"
      ],
      "metadata": {
        "id": "4odI_euqWhPV"
      },
      "execution_count": null,
      "outputs": []
    },
    {
      "cell_type": "markdown",
      "source": [
        "## 모듈 활용\n",
        "import '모듈명'"
      ],
      "metadata": {
        "id": "aNypNsoYcdB9"
      }
    },
    {
      "cell_type": "code",
      "source": [
        "# import math\n",
        "# math.sqrt(4.0)\n",
        "\n",
        "import math as m\n",
        "m.sqrt(4.0)"
      ],
      "metadata": {
        "colab": {
          "base_uri": "https://localhost:8080/"
        },
        "id": "UfHAfSUHb-da",
        "outputId": "4bce6694-e787-4a96-f6e7-0255be8c6c1c"
      },
      "execution_count": null,
      "outputs": [
        {
          "output_type": "execute_result",
          "data": {
            "text/plain": [
              "2.0"
            ]
          },
          "metadata": {},
          "execution_count": 32
        }
      ]
    },
    {
      "cell_type": "code",
      "source": [
        "# math 모듈 전부 활용\n",
        "from math import *\n",
        "pi\n",
        "sqrt(4.0)"
      ],
      "metadata": {
        "colab": {
          "base_uri": "https://localhost:8080/"
        },
        "id": "BkFMwv7ZcLqL",
        "outputId": "126b6135-3a5e-41fb-a75a-2e4ba63f67af"
      },
      "execution_count": null,
      "outputs": [
        {
          "output_type": "execute_result",
          "data": {
            "text/plain": [
              "2.0"
            ]
          },
          "metadata": {},
          "execution_count": 33
        }
      ]
    },
    {
      "cell_type": "code",
      "source": [
        "#실습 - 영어단어 퀴즈\n",
        "\n",
        "eng = {'friend': '친구','apple':'사과','book':'책','dog':'개','cat':'고양이'}\n",
        "\n",
        "def add_word():\n",
        "  word_en = input('영어 단어 입력: ')\n",
        "  word_kr = input('한국어 뜻 입력: ')\n",
        "  eng[word_en] = word_kr\n",
        "  print()\n",
        "\n",
        "def eng_question():\n",
        "\n",
        "  import random\n",
        "\n",
        "  point = 0\n",
        "  totQ = 0\n",
        "\n",
        "  while True:\n",
        "    word = random.choice(list(eng.keys()))\n",
        "\n",
        "    print(f'다음 단어의 뜻은 무엇일까요? {word}')\n",
        "    totQ += 1\n",
        "    guess = input('뜻을 입력하세요 >> ')\n",
        "\n",
        "    if guess == eng[word]:\n",
        "      print('정답입니다.')\n",
        "      point += 1\n",
        "    else:\n",
        "      print(f\"오답입니다. 정답은 '{eng[word]}'입니다.\")\n",
        "    print()\n",
        "\n",
        "    quit = input('계속 하시겠습니까?(종료: N): ')\n",
        "    if quit == 'N':\n",
        "      break\n",
        "\n",
        "  print(f'문제수: {totQ}, 정답수: {point}, 오답수: {totQ-point}')\n",
        "\n",
        "# 함수 호출\n",
        "while True:\n",
        "  menu = int(input('메뉴 선택(1. 데이터 추가, 2. 영어단어 퀴즈, 3. 종료): '))\n",
        "  if menu == 1:\n",
        "    add_word()\n",
        "\n",
        "  elif menu == 2:\n",
        "    eng_question()\n",
        "\n",
        "  elif menu == 3:\n",
        "    break\n",
        "\n",
        "  else:\n",
        "    print('없는 메뉴입니다.')\n"
      ],
      "metadata": {
        "colab": {
          "base_uri": "https://localhost:8080/"
        },
        "id": "2y6uMoFzczmJ",
        "outputId": "0519b8b6-ffd8-4bc6-f944-63b27cb381a1"
      },
      "execution_count": null,
      "outputs": [
        {
          "name": "stdout",
          "output_type": "stream",
          "text": [
            "메뉴 선택(1. 데이터 추가, 2. 영어단어 퀴즈, 3. 종료): 1\n",
            "영어 단어 입력: Python\n",
            "한국어 뜻 입력: 파이썬\n",
            "\n",
            "메뉴 선택(1. 데이터 추가, 2. 영어단어 퀴즈, 3. 종료): 1\n",
            "영어 단어 입력: school\n",
            "한국어 뜻 입력: 학교\n",
            "\n",
            "메뉴 선택(1. 데이터 추가, 2. 영어단어 퀴즈, 3. 종료): 1\n",
            "영어 단어 입력: democracy\n",
            "한국어 뜻 입력: 민주주의\n",
            "\n",
            "메뉴 선택(1. 데이터 추가, 2. 영어단어 퀴즈, 3. 종료): 1\n",
            "영어 단어 입력: encyclopedia\n",
            "한국어 뜻 입력: 백과사전\n",
            "\n",
            "메뉴 선택(1. 데이터 추가, 2. 영어단어 퀴즈, 3. 종료): 3\n"
          ]
        }
      ]
    },
    {
      "cell_type": "code",
      "source": [
        "eng"
      ],
      "metadata": {
        "colab": {
          "base_uri": "https://localhost:8080/"
        },
        "id": "0zscgy75lhaw",
        "outputId": "652ed5d1-3ade-4380-b0c3-afa8d0515975"
      },
      "execution_count": null,
      "outputs": [
        {
          "output_type": "execute_result",
          "data": {
            "text/plain": [
              "{'friend': '친구',\n",
              " 'apple': '사과',\n",
              " 'book': '책',\n",
              " 'dog': '개',\n",
              " 'cat': '고양이',\n",
              " 'Python': '파이썬',\n",
              " 'school': '학교',\n",
              " 'democracy': '민주주의',\n",
              " 'encyclopedia': '백과사전'}"
            ]
          },
          "metadata": {},
          "execution_count": 55
        }
      ]
    },
    {
      "cell_type": "code",
      "source": [
        "#구구단 게임\n",
        "\n",
        "# 함수 정의\n",
        "def times_game(count):\n",
        "  correct = 0\n",
        "\n",
        "  import random as r\n",
        "  import time\n",
        "  for i in range(count):\n",
        "    a = r.randint(2,9)\n",
        "    b = r.randint(1,9)\n",
        "\n",
        "    quiz = a * b\n",
        "\n",
        "    print(f'{a} * {b} = ?')\n",
        "    sTime = time.time()   #스톱워치 시작\n",
        "    ans = int(input('>> '))\n",
        "    eTime = time.time()   #스톱워치 종료\n",
        "    print(f'{eTime - sTime:.1f}초만에 답을 했어요')\n",
        "\n",
        "    if quiz == ans:\n",
        "      print('정답입니다.')\n",
        "      correct += 1\n",
        "    else:\n",
        "      print('오답입니다.')\n",
        "    print()\n",
        "\n",
        "  return correct\n",
        "\n",
        "\n",
        "# 구구단 호출\n",
        "count = int(input('몇번 할까요> >> '))\n",
        "r_correct = times_game(count)\n",
        "print(f'{count}번 중 {r_correct}번 맞았어요.')\n"
      ],
      "metadata": {
        "colab": {
          "base_uri": "https://localhost:8080/"
        },
        "id": "_zU49m9OmVVW",
        "outputId": "26c6f460-273a-4555-c3e8-a475c6792a9c"
      },
      "execution_count": null,
      "outputs": [
        {
          "output_type": "stream",
          "name": "stdout",
          "text": [
            "몇번 할까요> >> 3\n",
            "9 * 2 = ?\n",
            ">> 18\n",
            "2.3초만에 답을 했어요\n",
            "정답입니다.\n",
            "\n",
            "9 * 9 = ?\n",
            ">> 81\n",
            "2.1초만에 답을 했어요\n",
            "정답입니다.\n",
            "\n",
            "5 * 9 = ?\n",
            ">> 45\n",
            "2.0초만에 답을 했어요\n",
            "정답입니다.\n",
            "\n",
            "3번 중 3번 맞았어요.\n"
          ]
        }
      ]
    },
    {
      "cell_type": "code",
      "source": [
        "\n",
        "\n",
        "print(time.time())"
      ],
      "metadata": {
        "colab": {
          "base_uri": "https://localhost:8080/"
        },
        "id": "q-AWr-u1qxfy",
        "outputId": "ae86c8ed-4767-46ad-f256-79f2ff863643"
      },
      "execution_count": null,
      "outputs": [
        {
          "output_type": "stream",
          "name": "stdout",
          "text": [
            "1736738447.113841\n"
          ]
        }
      ]
    }
  ]
}