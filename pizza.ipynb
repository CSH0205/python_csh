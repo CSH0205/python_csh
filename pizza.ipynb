{
 "cells": [
  {
   "cell_type": "code",
   "execution_count": 2,
   "metadata": {},
   "outputs": [
    {
     "name": "stdout",
     "output_type": "stream",
     "text": [
      "페퍼로니 피자 (3000원)\n",
      "치즈 피자 (3200원)\n",
      "콤비네이션 피자 (3500원)\n",
      "불고기 피자 (3600원)\n",
      "해산물 피자 (3800원)\n"
     ]
    }
   ],
   "source": [
    "# 뻘소리: vscode가 안 돌아감...(=억까)\n",
    "\n",
    "pizza_menu = {'페퍼로니 피자': 3000, '치즈 피자': 3200, '콤비네이션 피자': 3500, '불고기 피자': 3600, '해산물 피자': 3800}\n",
    "order = {}\n",
    "\n",
    "for name, price in pizza_menu.items():\n",
    "    print(f'{name} ({price}원)')\n",
    "\n",
    "while True:\n",
    "    p_name = input('메뉴 이름 입력하세요(종료: 0): ')\n",
    "    if p_name == '0':\n",
    "        pass\n",
    "    elif p_name in pizza_menu:\n",
    "        count = int(input('수량을 입력하세요: '))\n",
    "        order[p_name] = count       #딕셔너리에 데이터삽입\n",
    "    elif p_name == 'exit':\n",
    "        break\n",
    "    else: \n",
    "        print('오류')\n",
    "\n",
    "    print(order)\n"
   ]
  },
  {
   "cell_type": "code",
   "execution_count": null,
   "metadata": {},
   "outputs": [],
   "source": []
  }
 ],
 "metadata": {
  "kernelspec": {
   "display_name": "Python 3",
   "language": "python",
   "name": "python3"
  },
  "language_info": {
   "codemirror_mode": {
    "name": "ipython",
    "version": 3
   },
   "file_extension": ".py",
   "mimetype": "text/x-python",
   "name": "python",
   "nbconvert_exporter": "python",
   "pygments_lexer": "ipython3",
   "version": "3.13.1"
  }
 },
 "nbformat": 4,
 "nbformat_minor": 2
}
